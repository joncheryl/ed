{
 "cells": [
  {
   "cell_type": "raw",
   "metadata": {
    "vscode": {
     "languageId": "raw"
    }
   },
   "source": [
    "title: CCD/NAEP Analysis\n",
    "author: John Sherrill\n",
    "date: \"{{ datetime.now().strftime('%B %d, %Y') }}\"\n",
    "output:\n",
    "    html:\n",
    "        code_folding: hide\n",
    "        code_tools: true\n",
    "        theme: spacelab"
   ]
  },
  {
   "cell_type": "code",
   "execution_count": 6,
   "metadata": {},
   "outputs": [],
   "source": [
    "# %load_ext pretty_jupyter\n",
    "\n",
    "import sqlite3\n",
    "import pandas as pd\n",
    "import cpi\n",
    "from itertools import product\n",
    "from IPython.display import display_html\n",
    "import statsmodels.formula.api as smf\n",
    "\n",
    "def custom_formatter(value):\n",
    "    ''' Helper function for formatting numbers in tables '''\n",
    "    return '{:,.1%}'.format(value) if type(value) != str else value\n",
    "\n",
    "# cpi.update()\n",
    "cpi_data = {year: cpi.inflate(1, year) for year in range(1970, 2023)}\n",
    "\n",
    "def inflate(money):\n",
    "    ''' Helper function because cpi function is slow '''\n",
    "    return money*pd.Series(data=money.index, index=money.index).map(cpi_data)\n",
    "\n",
    "# Database connection for subsetting data below\n",
    "conn = sqlite3.connect('ccd_db/state/data/state.db')\n",
    "cursor = conn.cursor()\n",
    "\n",
    "# Helper mapping for making table displays prettier/more readable.\n",
    "state_names = pd.read_html('https://en.wikipedia.org/wiki/Federal_Information_Processing_Standard_state_code')[0][['Name', 'Alpha code']]\n",
    "state_name_mapping = state_names.set_index('Alpha code')['Name'].to_dict()"
   ]
  },
  {
   "cell_type": "markdown",
   "metadata": {},
   "source": [
    "# 0. Skills/Tools\n",
    "- Data cleaning/python scripting. Packages: ```pandas```, ```requests```, ```sqlite3```\n",
    "- SQL database creation and querying. Engine: sqlite3\n",
    "- Data visualization. Software: Tableau\n",
    "- Statistical modeling\n",
    "\n",
    "# 1. Introduction\n",
    "I've written two reports ([here](https://raw.githack.com/joncheryl/ed/main/state_level.html) and [here](https://raw.githack.com/joncheryl/ed/main/state_level_spending.html)) analyzing academic achievement and education spending data for the state of Utah. I found that there was essentially no evidence of changes in spending affecting academic achievement and became curious if this generalized to the entire US. **TL;DR: There is a very, very weak positive relationship between per-student, inflation-adjusted spending and education efficacy.** Two academic subjects were examined (math and reading) and only math exhibited this relationship.\n",
    "\n",
    "### Data Used:\n",
    "There were two primary datasets that were utilized. \n",
    "\n",
    "- Per-student spending data was calculated from the [Common Core of Data](https://nces.ed.gov/ccd/), published by the National Center for Education Statistics.\n",
    "- Education efficacy data was obtained from the [National Assessment for Educational Progress](https://www.nationsreportcard.gov/) (NAEP), commonly referred to as the Nations Report Card.\n",
    "\n",
    "NAEP administers a variety of tests at different grade levels, subjects, and other parameters but to simplify analysis, only 8th grade results in math and reading were used. In some of the visualizations of the NAEP data below, there is a distinction between NAEP scores \"with accommodations\" and scores \"without accommodations\". In 1996, NAEP began to introduce accommodations for students with disabilities and English learners and these results were reported alongside those without accommodations. In 2002, testing without accommodations was stopped and only results with accommodations were reported thereafter. For more information, see [here](https://nces.ed.gov/nationsreportcard/about/history_inclusion.aspx)\n",
    "\n",
    "All this data was [downloaded, cleaned, organized, and compiled](https://github.com/joncheryl/ed/tree/main/ccd_db/state) into a SQL database where is queried in this report for analysis."
   ]
  },
  {
   "cell_type": "markdown",
   "metadata": {},
   "source": [
    "# 2. Academic Trends\n",
    "Each state has it's own public education journey but there are some general trends that can be easily observed. NAEP math scores in almost all states were going up until approximately 2013. However, after 2013 math scores began to decline. NAEP reading scores were largely flat until 2013 after which scores began to decline. The declines have been so great that the median NAEP math score (273) is now were it was in 2000, erasing years of gains. And the median NAEP reading score (257) is the lowest since the reading tests were first administered in 1998. Visualized here:"
   ]
  },
  {
   "cell_type": "code",
   "execution_count": 16,
   "metadata": {},
   "outputs": [],
   "source": [
    "# Query obtaining math and reading scores.\n",
    "cursor.execute('''\n",
    "    SELECT\n",
    "        end_year,\n",
    "        jurisdiction,\n",
    "        math_read as subject,\n",
    "        accommodations,\n",
    "        mean as avg_naep\n",
    "    FROM\n",
    "        naep\n",
    "    WHERE\n",
    "        grade = 8\n",
    "        AND jurisdiction NOT LIKE 'X%'\n",
    "        AND jurisdiction NOT IN ('NT', 'NP', 'NR', 'AS', 'GU', 'VI', 'YA',\n",
    "                                 'PR', 'DS', 'NL', 'DC')\n",
    "    ;\n",
    "''')\n",
    "\n",
    "naep = pd.DataFrame(cursor.fetchall(),\n",
    "                    columns=[column[0] for column in cursor.description])\n",
    "\n",
    "naep.to_csv('naep.csv', index=False)"
   ]
  },
  {
   "cell_type": "code",
   "execution_count": 17,
   "metadata": {
    "vscode": {
     "languageId": "html"
    }
   },
   "outputs": [
    {
     "data": {
      "text/html": [
       "<div class='tableauPlaceholder' id='viz1743784225298' style='position: relative'><noscript><a href='#'><img alt='NAEP Scores over Time by State8th Grade. R2 median in green. R3 median in red. ' src='https:&#47;&#47;public.tableau.com&#47;static&#47;images&#47;NA&#47;NAEPScoresoverTimebyState&#47;NAEPScoresoverTimebyState&#47;1_rss.png' style='border: none' /></a></noscript><object class='tableauViz'  style='display:none;'><param name='host_url' value='https%3A%2F%2Fpublic.tableau.com%2F' /> <param name='embed_code_version' value='3' /> <param name='site_root' value='' /><param name='name' value='NAEPScoresoverTimebyState&#47;NAEPScoresoverTimebyState' /><param name='tabs' value='no' /><param name='toolbar' value='yes' /><param name='static_image' value='https:&#47;&#47;public.tableau.com&#47;static&#47;images&#47;NA&#47;NAEPScoresoverTimebyState&#47;NAEPScoresoverTimebyState&#47;1.png' /> <param name='animate_transition' value='yes' /><param name='display_static_image' value='yes' /><param name='display_spinner' value='yes' /><param name='display_overlay' value='yes' /><param name='display_count' value='yes' /><param name='language' value='en-US' /><param name='filter' value='publish=yes' /></object></div>                <script type='text/javascript'>                    var divElement = document.getElementById('viz1743784225298');                    var vizElement = divElement.getElementsByTagName('object')[0];                    vizElement.style.width='100%';vizElement.style.height=(divElement.offsetWidth*0.75)+'px';                    var scriptElement = document.createElement('script');                    scriptElement.src = 'https://public.tableau.com/javascripts/api/viz_v1.js';                    vizElement.parentNode.insertBefore(scriptElement, vizElement);                </script>\n",
       "<br>\n"
      ],
      "text/plain": [
       "<IPython.core.display.HTML object>"
      ]
     },
     "metadata": {},
     "output_type": "display_data"
    }
   ],
   "source": [
    "%%html\n",
    "<div class='tableauPlaceholder' id='viz1743784225298' style='position: relative'><noscript><a href='#'><img alt='NAEP Scores over Time by State8th Grade. R2 median in green. R3 median in red. ' src='https:&#47;&#47;public.tableau.com&#47;static&#47;images&#47;NA&#47;NAEPScoresoverTimebyState&#47;NAEPScoresoverTimebyState&#47;1_rss.png' style='border: none' /></a></noscript><object class='tableauViz'  style='display:none;'><param name='host_url' value='https%3A%2F%2Fpublic.tableau.com%2F' /> <param name='embed_code_version' value='3' /> <param name='site_root' value='' /><param name='name' value='NAEPScoresoverTimebyState&#47;NAEPScoresoverTimebyState' /><param name='tabs' value='no' /><param name='toolbar' value='yes' /><param name='static_image' value='https:&#47;&#47;public.tableau.com&#47;static&#47;images&#47;NA&#47;NAEPScoresoverTimebyState&#47;NAEPScoresoverTimebyState&#47;1.png' /> <param name='animate_transition' value='yes' /><param name='display_static_image' value='yes' /><param name='display_spinner' value='yes' /><param name='display_overlay' value='yes' /><param name='display_count' value='yes' /><param name='language' value='en-US' /><param name='filter' value='publish=yes' /></object></div>                <script type='text/javascript'>                    var divElement = document.getElementById('viz1743784225298');                    var vizElement = divElement.getElementsByTagName('object')[0];                    vizElement.style.width='100%';vizElement.style.height=(divElement.offsetWidth*0.75)+'px';                    var scriptElement = document.createElement('script');                    scriptElement.src = 'https://public.tableau.com/javascripts/api/viz_v1.js';                    vizElement.parentNode.insertBefore(scriptElement, vizElement);                </script>\n",
    "<br>"
   ]
  },
  {
   "cell_type": "markdown",
   "metadata": {},
   "source": [
    "2003 was the first year that NAEP tests with accommodations were administered to all states in reading and math. If we look at the percentage change in NAEP scores by state, we begin to see that in reading and math only 3 states for each subject saw improvements of over 1% in either test. So top performers over this period are more cases of \"not failing\" rather than improving."
   ]
  },
  {
   "cell_type": "markdown",
   "metadata": {},
   "source": [
    "### Top/Bottom 5 % Growth in NAEP Math Since 2003 (with accommodations)"
   ]
  },
  {
   "cell_type": "code",
   "execution_count": 18,
   "metadata": {},
   "outputs": [
    {
     "data": {
      "text/html": [
       "<style type=\"text/css\">\n",
       "#T_a0f68 caption {\n",
       "  white-space: nowrap;\n",
       "  text-align: left;\n",
       "  font-size: 16px;\n",
       "}\n",
       "</style>\n",
       "<table id=\"T_a0f68\" style='display:inline; width: 100%;'>\n",
       "  <caption>Top 5 - % Growth in NAEP Math</caption>\n",
       "  <thead>\n",
       "    <tr>\n",
       "      <th id=\"T_a0f68_level0_col0\" class=\"col_heading level0 col0\" >State</th>\n",
       "      <th id=\"T_a0f68_level0_col1\" class=\"col_heading level0 col1\" >Percent Change</th>\n",
       "    </tr>\n",
       "  </thead>\n",
       "  <tbody>\n",
       "    <tr>\n",
       "      <td id=\"T_a0f68_row0_col0\" class=\"data row0 col0\" >Mississippi</td>\n",
       "      <td id=\"T_a0f68_row0_col1\" class=\"data row0 col1\" >3.1%</td>\n",
       "    </tr>\n",
       "    <tr>\n",
       "      <td id=\"T_a0f68_row1_col0\" class=\"data row1 col0\" >Tennessee</td>\n",
       "      <td id=\"T_a0f68_row1_col1\" class=\"data row1 col1\" >2.9%</td>\n",
       "    </tr>\n",
       "    <tr>\n",
       "      <td id=\"T_a0f68_row2_col0\" class=\"data row2 col0\" >Hawaii</td>\n",
       "      <td id=\"T_a0f68_row2_col1\" class=\"data row2 col1\" >1.6%</td>\n",
       "    </tr>\n",
       "    <tr>\n",
       "      <td id=\"T_a0f68_row3_col0\" class=\"data row3 col0\" >California</td>\n",
       "      <td id=\"T_a0f68_row3_col1\" class=\"data row3 col1\" >0.6%</td>\n",
       "    </tr>\n",
       "    <tr>\n",
       "      <td id=\"T_a0f68_row4_col0\" class=\"data row4 col0\" >Utah</td>\n",
       "      <td id=\"T_a0f68_row4_col1\" class=\"data row4 col1\" >0.4%</td>\n",
       "    </tr>\n",
       "  </tbody>\n",
       "</table>\n",
       "&emsp;&emsp;&emsp;&emsp;&emsp;&emsp;&emsp;&emsp;&emsp;&emsp;<style type=\"text/css\">\n",
       "#T_8da82 caption {\n",
       "  white-space: nowrap;\n",
       "  text-align: left;\n",
       "  font-size: 16px;\n",
       "}\n",
       "</style>\n",
       "<table id=\"T_8da82\" style='display:inline;'>\n",
       "  <caption>Bottom 5 - % Growth in NAEP Math</caption>\n",
       "  <thead>\n",
       "    <tr>\n",
       "      <th id=\"T_8da82_level0_col0\" class=\"col_heading level0 col0\" >State</th>\n",
       "      <th id=\"T_8da82_level0_col1\" class=\"col_heading level0 col1\" >Percent Change</th>\n",
       "    </tr>\n",
       "  </thead>\n",
       "  <tbody>\n",
       "    <tr>\n",
       "      <td id=\"T_8da82_row0_col0\" class=\"data row0 col0\" >Kansas</td>\n",
       "      <td id=\"T_8da82_row0_col1\" class=\"data row0 col1\" >-3.5%</td>\n",
       "    </tr>\n",
       "    <tr>\n",
       "      <td id=\"T_8da82_row1_col0\" class=\"data row1 col0\" >West Virginia</td>\n",
       "      <td id=\"T_8da82_row1_col1\" class=\"data row1 col1\" >-3.7%</td>\n",
       "    </tr>\n",
       "    <tr>\n",
       "      <td id=\"T_8da82_row2_col0\" class=\"data row2 col0\" >Oregon</td>\n",
       "      <td id=\"T_8da82_row2_col1\" class=\"data row2 col1\" >-4.6%</td>\n",
       "    </tr>\n",
       "    <tr>\n",
       "      <td id=\"T_8da82_row3_col0\" class=\"data row3 col0\" >Delaware</td>\n",
       "      <td id=\"T_8da82_row3_col1\" class=\"data row3 col1\" >-5.1%</td>\n",
       "    </tr>\n",
       "    <tr>\n",
       "      <td id=\"T_8da82_row4_col0\" class=\"data row4 col0\" >Alaska</td>\n",
       "      <td id=\"T_8da82_row4_col1\" class=\"data row4 col1\" >-5.4%</td>\n",
       "    </tr>\n",
       "  </tbody>\n",
       "</table>\n",
       "<br>"
      ]
     },
     "metadata": {},
     "output_type": "display_data"
    }
   ],
   "source": [
    "# Query obtaining top/bottom states by % change in NAEP math scores.\n",
    "cursor.execute('''\n",
    "    SELECT\n",
    "        end_year,\n",
    "        jurisdiction,\n",
    "        mean as avg_naep\n",
    "    FROM\n",
    "        naep\n",
    "    WHERE\n",
    "        math_read = 'MAT'\n",
    "        AND accommodations = 'R3'\n",
    "        AND grade = 8\n",
    "        AND jurisdiction NOT LIKE 'X%'\n",
    "        AND jurisdiction NOT IN ('NT', 'NP', 'NR', 'AS', 'GU', 'VI', 'YA',\n",
    "                                 'PR', 'DS', 'NL', 'DC')\n",
    "    ;\n",
    "''')\n",
    "\n",
    "naep_math = pd.DataFrame(cursor.fetchall(),\n",
    "                         columns=[column[0] for column in cursor.description])\n",
    "\n",
    "# Calculate change over time span that we have R3, grade 8 scores (since 2003)\n",
    "naep_math_pivot = naep_math.pivot(columns=['end_year'],\n",
    "                                  index=['jurisdiction'],\n",
    "                                  values='avg_naep')\n",
    "naep_math_change = (\n",
    "    naep_math_pivot[2024]\n",
    "    .div(naep_math_pivot[2003])\n",
    "    .subtract(1)\n",
    "    .sort_values(ascending=False)\n",
    "    .rename('Percent Change')\n",
    ")\n",
    "naep_math_top = pd.DataFrame(naep_math_change.head()).reset_index()\n",
    "naep_math_bottom = pd.DataFrame(naep_math_change.tail()).reset_index()\n",
    "\n",
    "# Formatting for table display\n",
    "top_math_styler = (\n",
    "    naep_math_top\n",
    "    .replace({'jurisdiction': state_name_mapping})\n",
    "    .rename(columns={'jurisdiction': 'State'})\n",
    "    .style\n",
    "    .set_table_attributes(\"style='display:inline; width: 100%;'\")\n",
    "    .set_caption('Top 5 - % Growth in NAEP Math')\n",
    "    .set_table_styles([\n",
    "        {'selector': 'caption',\n",
    "         'props': [('white-space', 'nowrap'), ('text-align', 'left'), ('font-size', '16px')]}\n",
    "    ])\n",
    "    .hide()\n",
    "    .format({'Percent Change': '{:,.1%}'.format}, precision=2)\n",
    ")\n",
    "bottom_math_styler = (\n",
    "    naep_math_bottom\n",
    "    .replace({'jurisdiction': state_name_mapping})\n",
    "    .rename(columns={'jurisdiction': 'State'})\n",
    "    .style\n",
    "    .set_table_attributes(\"style='display:inline;'\")\n",
    "    .set_table_styles([\n",
    "        {'selector': 'caption',\n",
    "         'props': [('white-space', 'nowrap'), ('text-align', 'left'), ('font-size', '16px')]}\n",
    "    ])\n",
    "    .set_caption('Bottom 5 - % Growth in NAEP Math')\n",
    "    .hide()\n",
    "    .format({'Percent Change': '{:,.1%}'.format}, precision=2)\n",
    ")\n",
    "\n",
    "\n",
    "display_html(top_math_styler._repr_html_()+10*'&emsp;'+bottom_math_styler._repr_html_()+'<br>', raw=True)"
   ]
  },
  {
   "cell_type": "markdown",
   "metadata": {},
   "source": [
    "### Top/Bottom 5 % Growth in NAEP Reading Since 2003 (with accommodations)"
   ]
  },
  {
   "cell_type": "code",
   "execution_count": 19,
   "metadata": {},
   "outputs": [
    {
     "data": {
      "text/html": [
       "<style type=\"text/css\">\n",
       "#T_77ee8 caption {\n",
       "  white-space: nowrap;\n",
       "  text-align: left;\n",
       "  font-size: 16px;\n",
       "}\n",
       "</style>\n",
       "<table id=\"T_77ee8\" style='display:inline'>\n",
       "  <caption>Top 5 - % Growth in NAEP Reading</caption>\n",
       "  <thead>\n",
       "    <tr>\n",
       "      <th id=\"T_77ee8_level0_col0\" class=\"col_heading level0 col0\" >State</th>\n",
       "      <th id=\"T_77ee8_level0_col1\" class=\"col_heading level0 col1\" >Percent Change</th>\n",
       "    </tr>\n",
       "  </thead>\n",
       "  <tbody>\n",
       "    <tr>\n",
       "      <td id=\"T_77ee8_row0_col0\" class=\"data row0 col0\" >Hawaii</td>\n",
       "      <td id=\"T_77ee8_row0_col1\" class=\"data row0 col1\" >2.4%</td>\n",
       "    </tr>\n",
       "    <tr>\n",
       "      <td id=\"T_77ee8_row1_col0\" class=\"data row1 col0\" >California</td>\n",
       "      <td id=\"T_77ee8_row1_col1\" class=\"data row1 col1\" >1.3%</td>\n",
       "    </tr>\n",
       "    <tr>\n",
       "      <td id=\"T_77ee8_row2_col0\" class=\"data row2 col0\" >Louisiana</td>\n",
       "      <td id=\"T_77ee8_row2_col1\" class=\"data row2 col1\" >1.2%</td>\n",
       "    </tr>\n",
       "    <tr>\n",
       "      <td id=\"T_77ee8_row3_col0\" class=\"data row3 col0\" >Georgia</td>\n",
       "      <td id=\"T_77ee8_row3_col1\" class=\"data row3 col1\" >0.6%</td>\n",
       "    </tr>\n",
       "    <tr>\n",
       "      <td id=\"T_77ee8_row4_col0\" class=\"data row4 col0\" >Nevada</td>\n",
       "      <td id=\"T_77ee8_row4_col1\" class=\"data row4 col1\" >0.4%</td>\n",
       "    </tr>\n",
       "  </tbody>\n",
       "</table>\n",
       "&emsp;&emsp;&emsp;&emsp;&emsp;&emsp;&emsp;&emsp;&emsp;&emsp;<style type=\"text/css\">\n",
       "#T_5b46a caption {\n",
       "  white-space: nowrap;\n",
       "  text-align: left;\n",
       "  font-size: 16px;\n",
       "}\n",
       "</style>\n",
       "<table id=\"T_5b46a\" style='display:inline'>\n",
       "  <caption>Bottom 5 - % Growth in NAEP Reading</caption>\n",
       "  <thead>\n",
       "    <tr>\n",
       "      <th id=\"T_5b46a_level0_col0\" class=\"col_heading level0 col0\" >State</th>\n",
       "      <th id=\"T_5b46a_level0_col1\" class=\"col_heading level0 col1\" >Percent Change</th>\n",
       "    </tr>\n",
       "  </thead>\n",
       "  <tbody>\n",
       "    <tr>\n",
       "      <td id=\"T_5b46a_row0_col0\" class=\"data row0 col0\" >West Virginia</td>\n",
       "      <td id=\"T_5b46a_row0_col1\" class=\"data row0 col1\" >-4.7%</td>\n",
       "    </tr>\n",
       "    <tr>\n",
       "      <td id=\"T_5b46a_row1_col0\" class=\"data row1 col0\" >Vermont</td>\n",
       "      <td id=\"T_5b46a_row1_col1\" class=\"data row1 col1\" >-4.9%</td>\n",
       "    </tr>\n",
       "    <tr>\n",
       "      <td id=\"T_5b46a_row2_col0\" class=\"data row2 col0\" >Oklahoma</td>\n",
       "      <td id=\"T_5b46a_row2_col1\" class=\"data row2 col1\" >-4.9%</td>\n",
       "    </tr>\n",
       "    <tr>\n",
       "      <td id=\"T_5b46a_row3_col0\" class=\"data row3 col0\" >Maine</td>\n",
       "      <td id=\"T_5b46a_row3_col1\" class=\"data row3 col1\" >-4.9%</td>\n",
       "    </tr>\n",
       "    <tr>\n",
       "      <td id=\"T_5b46a_row4_col0\" class=\"data row4 col0\" >Delaware</td>\n",
       "      <td id=\"T_5b46a_row4_col1\" class=\"data row4 col1\" >-5.7%</td>\n",
       "    </tr>\n",
       "  </tbody>\n",
       "</table>\n"
      ]
     },
     "metadata": {},
     "output_type": "display_data"
    }
   ],
   "source": [
    "# Query obtaining top/bottom states by % change in NAEP reading scores.\n",
    "cursor.execute('''\n",
    "    SELECT\n",
    "        end_year,\n",
    "        jurisdiction,\n",
    "        mean as avg_naep\n",
    "    FROM\n",
    "        naep\n",
    "    WHERE\n",
    "        math_read = 'RED'\n",
    "        AND accommodations = 'R3'\n",
    "        AND grade = 8\n",
    "        AND jurisdiction NOT LIKE 'X%'\n",
    "        AND jurisdiction NOT IN ('NT', 'NP', 'NR', 'AS', 'GU', 'VI', 'YA',\n",
    "                                 'PR', 'DS', 'NL', 'DC')\n",
    "    ;\n",
    "''')\n",
    "\n",
    "naep_read = pd.DataFrame(cursor.fetchall(),\n",
    "                    columns=[column[0] for column in cursor.description])\n",
    "\n",
    "# Calculate change over time span that we have R3, grade 8 scores (since 2003)\n",
    "naep_read_pivot = naep_read.pivot(columns=['end_year'],\n",
    "                                  index=['jurisdiction'],\n",
    "                                  values='avg_naep')\n",
    "naep_read_change = (\n",
    "    naep_read_pivot[2024]\n",
    "    .div(naep_read_pivot[2003])\n",
    "    .subtract(1)\n",
    "    .sort_values(ascending=False)\n",
    "    .rename('Percent Change')\n",
    ")\n",
    "naep_read_top = pd.DataFrame(naep_read_change.head()).reset_index()\n",
    "naep_read_bottom = pd.DataFrame(naep_read_change.tail()).reset_index()\n",
    "\n",
    "# Formatting for table display\n",
    "top_reading_styler = (\n",
    "    naep_read_top\n",
    "    .replace({'jurisdiction': state_name_mapping})\n",
    "    .rename(columns={'jurisdiction': 'State'})\n",
    "    .style\n",
    "    .set_table_attributes(\"style='display:inline'\")\n",
    "    .set_caption('Top 5 - % Growth in NAEP Reading')\n",
    "    .set_table_styles([\n",
    "        {'selector': 'caption',\n",
    "         'props': [('white-space', 'nowrap'), ('text-align', 'left'), ('font-size', '16px')]}\n",
    "    ])\n",
    "    .hide()\n",
    "    .format({'Percent Change': '{:,.1%}'.format}, precision=2)\n",
    ")\n",
    "bottom_reading_styler = (\n",
    "    naep_read_bottom\n",
    "    .replace({'jurisdiction': state_name_mapping})\n",
    "    .rename(columns={'jurisdiction': 'State'})\n",
    "    .style\n",
    "    .set_table_attributes(\"style='display:inline'\")\n",
    "    .set_caption('Bottom 5 - % Growth in NAEP Reading')\n",
    "    .set_table_styles([\n",
    "        {'selector': 'caption',\n",
    "         'props': [('white-space', 'nowrap'), ('text-align', 'left'), ('font-size', '16px')]}\n",
    "    ])\n",
    "    .hide()\n",
    "    .format({'Percent Change': '{:,.1%}'.format}, precision=2)\n",
    ")\n",
    "\n",
    "display_html(top_reading_styler._repr_html_()+10*'&emsp;'+bottom_reading_styler._repr_html_(), raw=True)"
   ]
  },
  {
   "cell_type": "markdown",
   "metadata": {},
   "source": [
    "# 3. Spending Trends\n",
    "Similar to the academic trends observed above, spending trends are roughly the same across states. We can see in the graph below that almost all states saw an increase in the amount of per student spending from 1987 to 2009, a decline from 2009 to 2013, and a subsequent continuation of the increase in spending."
   ]
  },
  {
   "cell_type": "code",
   "execution_count": 20,
   "metadata": {},
   "outputs": [],
   "source": [
    "# Query obtaining spending per student per state.\n",
    "cursor.execute('''\n",
    "    SELECT\n",
    "        fiscal.end_year,\n",
    "        fiscal.te11 / membership.student_count as exp_per_stu,\n",
    "        fiscal.stabr\n",
    "    FROM\n",
    "        fiscal\n",
    "    INNER JOIN\n",
    "        membership\n",
    "        ON fiscal.end_year = membership.end_year\n",
    "        AND fiscal.fipst = membership.fipst\n",
    "    WHERE \n",
    "        membership.total_indicator = 'Derived - Education Unit Total minus Adult Education Count'\n",
    "        AND fiscal.stabr NOT IN ('GU', 'VI','AS', 'PR', 'DC', 'MP')\n",
    "    ;\n",
    "''')\n",
    "\n",
    "fiscal = pd.DataFrame(cursor.fetchall(),\n",
    "                      columns=[column[0] for column in cursor.description])\n",
    "\n",
    "# Adjust spending for inflation\n",
    "fiscal['exp_ia'] = fiscal['exp_per_stu'] * fiscal['end_year'].map(cpi_data)\n",
    "fiscal = fiscal.drop(columns=['exp_per_stu'])\n",
    "\n",
    "# Print fiscal table to file for distribution of spending over time line chart viz.\n",
    "# fiscal.to_csv('fiscal.csv', index=False)"
   ]
  },
  {
   "cell_type": "code",
   "execution_count": 21,
   "metadata": {
    "vscode": {
     "languageId": "html"
    }
   },
   "outputs": [
    {
     "data": {
      "text/html": [
       "<div class='tableauPlaceholder' id='viz1743461013621' style='position: relative'><noscript><a href='#'><img alt='Spending per Student over TimeMedian in red ' src='https:&#47;&#47;public.tableau.com&#47;static&#47;images&#47;Sp&#47;SpendingperStudentoverTimebyState&#47;SpendingperStudentoverTime&#47;1_rss.png' style='border: none' /></a></noscript><object class='tableauViz'  style='display:none;'><param name='host_url' value='https%3A%2F%2Fpublic.tableau.com%2F' /> <param name='embed_code_version' value='3' /> <param name='site_root' value='' /><param name='name' value='SpendingperStudentoverTimebyState&#47;SpendingperStudentoverTime' /><param name='tabs' value='no' /><param name='toolbar' value='yes' /><param name='static_image' value='https:&#47;&#47;public.tableau.com&#47;static&#47;images&#47;Sp&#47;SpendingperStudentoverTimebyState&#47;SpendingperStudentoverTime&#47;1.png' /> <param name='animate_transition' value='yes' /><param name='display_static_image' value='yes' /><param name='display_spinner' value='yes' /><param name='display_overlay' value='yes' /><param name='display_count' value='yes' /><param name='language' value='en-US' /><param name='filter' value='publish=yes' /></object></div>                <script type='text/javascript'>                    var divElement = document.getElementById('viz1743461013621');                    var vizElement = divElement.getElementsByTagName('object')[0];                    vizElement.style.width='100%';vizElement.style.height=(divElement.offsetWidth*0.75)+'px';                    var scriptElement = document.createElement('script');                    scriptElement.src = 'https://public.tableau.com/javascripts/api/viz_v1.js';                    vizElement.parentNode.insertBefore(scriptElement, vizElement);                </script>\n",
       "<br>\n"
      ],
      "text/plain": [
       "<IPython.core.display.HTML object>"
      ]
     },
     "metadata": {},
     "output_type": "display_data"
    }
   ],
   "source": [
    "%%html\n",
    "<div class='tableauPlaceholder' id='viz1743461013621' style='position: relative'><noscript><a href='#'><img alt='Spending per Student over TimeMedian in red ' src='https:&#47;&#47;public.tableau.com&#47;static&#47;images&#47;Sp&#47;SpendingperStudentoverTimebyState&#47;SpendingperStudentoverTime&#47;1_rss.png' style='border: none' /></a></noscript><object class='tableauViz'  style='display:none;'><param name='host_url' value='https%3A%2F%2Fpublic.tableau.com%2F' /> <param name='embed_code_version' value='3' /> <param name='site_root' value='' /><param name='name' value='SpendingperStudentoverTimebyState&#47;SpendingperStudentoverTime' /><param name='tabs' value='no' /><param name='toolbar' value='yes' /><param name='static_image' value='https:&#47;&#47;public.tableau.com&#47;static&#47;images&#47;Sp&#47;SpendingperStudentoverTimebyState&#47;SpendingperStudentoverTime&#47;1.png' /> <param name='animate_transition' value='yes' /><param name='display_static_image' value='yes' /><param name='display_spinner' value='yes' /><param name='display_overlay' value='yes' /><param name='display_count' value='yes' /><param name='language' value='en-US' /><param name='filter' value='publish=yes' /></object></div>                <script type='text/javascript'>                    var divElement = document.getElementById('viz1743461013621');                    var vizElement = divElement.getElementsByTagName('object')[0];                    vizElement.style.width='100%';vizElement.style.height=(divElement.offsetWidth*0.75)+'px';                    var scriptElement = document.createElement('script');                    scriptElement.src = 'https://public.tableau.com/javascripts/api/viz_v1.js';                    vizElement.parentNode.insertBefore(scriptElement, vizElement);                </script>\n",
    "<br>"
   ]
  },
  {
   "cell_type": "markdown",
   "metadata": {},
   "source": [
    "I would like to note that these spending figures are inflation adjusted to 2025 dollars and that these are *per-student* spending amounts. In light of this, I think it's startling just how great the increases in spending are.\n",
    "\n",
    "### Top/Bottom 5 in % Change in Spending Since 1987"
   ]
  },
  {
   "cell_type": "code",
   "execution_count": 24,
   "metadata": {},
   "outputs": [
    {
     "data": {
      "text/html": [
       "<style type=\"text/css\">\n",
       "#T_eadbb caption {\n",
       "  white-space: nowrap;\n",
       "  text-align: left;\n",
       "  font-size: 16px;\n",
       "}\n",
       "</style>\n",
       "<table id=\"T_eadbb\" style='display:inline'>\n",
       "  <caption>Top 5 - % Change in Per Student Spending</caption>\n",
       "  <thead>\n",
       "    <tr>\n",
       "      <th id=\"T_eadbb_level0_col0\" class=\"col_heading level0 col0\" >State</th>\n",
       "      <th id=\"T_eadbb_level0_col1\" class=\"col_heading level0 col1\" >Percent Change</th>\n",
       "    </tr>\n",
       "  </thead>\n",
       "  <tbody>\n",
       "    <tr>\n",
       "      <td id=\"T_eadbb_row0_col0\" class=\"data row0 col0\" >Vermont</td>\n",
       "      <td id=\"T_eadbb_row0_col1\" class=\"data row0 col1\" >146.9%</td>\n",
       "    </tr>\n",
       "    <tr>\n",
       "      <td id=\"T_eadbb_row1_col0\" class=\"data row1 col0\" >Kentucky</td>\n",
       "      <td id=\"T_eadbb_row1_col1\" class=\"data row1 col1\" >136.3%</td>\n",
       "    </tr>\n",
       "    <tr>\n",
       "      <td id=\"T_eadbb_row2_col0\" class=\"data row2 col0\" >Illinois</td>\n",
       "      <td id=\"T_eadbb_row2_col1\" class=\"data row2 col1\" >133.0%</td>\n",
       "    </tr>\n",
       "    <tr>\n",
       "      <td id=\"T_eadbb_row3_col0\" class=\"data row3 col0\" >New Hampshire</td>\n",
       "      <td id=\"T_eadbb_row3_col1\" class=\"data row3 col1\" >125.6%</td>\n",
       "    </tr>\n",
       "    <tr>\n",
       "      <td id=\"T_eadbb_row4_col0\" class=\"data row4 col0\" >North Dakota</td>\n",
       "      <td id=\"T_eadbb_row4_col1\" class=\"data row4 col1\" >122.8%</td>\n",
       "    </tr>\n",
       "  </tbody>\n",
       "</table>\n",
       "&emsp;&emsp;&emsp;<style type=\"text/css\">\n",
       "#T_c6675 caption {\n",
       "  white-space: nowrap;\n",
       "  text-align: left;\n",
       "  font-size: 16px;\n",
       "}\n",
       "</style>\n",
       "<table id=\"T_c6675\" style='display:inline'>\n",
       "  <caption>Bottom 5 - % Change in Per Student Spending</caption>\n",
       "  <thead>\n",
       "    <tr>\n",
       "      <th id=\"T_c6675_level0_col0\" class=\"col_heading level0 col0\" >State</th>\n",
       "      <th id=\"T_c6675_level0_col1\" class=\"col_heading level0 col1\" >Percent Change</th>\n",
       "    </tr>\n",
       "  </thead>\n",
       "  <tbody>\n",
       "    <tr>\n",
       "      <td id=\"T_c6675_row0_col0\" class=\"data row0 col0\" >Montana</td>\n",
       "      <td id=\"T_c6675_row0_col1\" class=\"data row0 col1\" >56.3%</td>\n",
       "    </tr>\n",
       "    <tr>\n",
       "      <td id=\"T_c6675_row1_col0\" class=\"data row1 col0\" >Nevada</td>\n",
       "      <td id=\"T_c6675_row1_col1\" class=\"data row1 col1\" >54.7%</td>\n",
       "    </tr>\n",
       "    <tr>\n",
       "      <td id=\"T_c6675_row2_col0\" class=\"data row2 col0\" >Florida</td>\n",
       "      <td id=\"T_c6675_row2_col1\" class=\"data row2 col1\" >44.7%</td>\n",
       "    </tr>\n",
       "    <tr>\n",
       "      <td id=\"T_c6675_row3_col0\" class=\"data row3 col0\" >Arizona</td>\n",
       "      <td id=\"T_c6675_row3_col1\" class=\"data row3 col1\" >37.3%</td>\n",
       "    </tr>\n",
       "    <tr>\n",
       "      <td id=\"T_c6675_row4_col0\" class=\"data row4 col0\" >Alaska</td>\n",
       "      <td id=\"T_c6675_row4_col1\" class=\"data row4 col1\" >19.3%</td>\n",
       "    </tr>\n",
       "  </tbody>\n",
       "</table>\n"
      ]
     },
     "metadata": {},
     "output_type": "display_data"
    }
   ],
   "source": [
    "# Table showing top and bottom 5 % change since 1987\n",
    "\n",
    "fiscal_pivot = fiscal.pivot(columns=['end_year'], index=['stabr'], values='exp_ia')\n",
    "fiscal_change = pd.DataFrame({\n",
    "    'Since 1987': (fiscal_pivot[2022].div(fiscal_pivot[1987]) - 1),\n",
    "    'Since 2003': (fiscal_pivot[2022].div(fiscal_pivot[2003]) - 1),\n",
    "})\n",
    "\n",
    "fiscal_1987_change = (\n",
    "    fiscal_change\n",
    "    .sort_values(by='Since 1987', ascending=False)\n",
    "    .reset_index()\n",
    "    .loc[:, ['stabr', 'Since 1987']]\n",
    ")\n",
    "\n",
    "fiscal_1987_top = fiscal_1987_change.head()\n",
    "fiscal_1987_bottom = fiscal_1987_change.tail()\n",
    "\n",
    "# Formatting for table display\n",
    "fiscal_1987_top_styler = (\n",
    "    fiscal_1987_top\n",
    "    .replace({'stabr': state_name_mapping})\n",
    "    .rename(columns={'stabr': 'State', 'Since 1987': 'Percent Change'})\n",
    "    .style\n",
    "    .set_table_attributes(\"style='display:inline'\")\n",
    "    .set_caption('Top 5 - % Change in Per Student Spending')\n",
    "    .set_table_styles([\n",
    "        {'selector': 'caption',\n",
    "         'props': [('white-space', 'nowrap'), ('text-align', 'left'), ('font-size', '16px')]}\n",
    "    ])\n",
    "    .hide()\n",
    "    .format({'Percent Change': '{:,.1%}'.format}, precision=2)\n",
    ")\n",
    "fiscal_1987_bottom_styler = (\n",
    "    fiscal_1987_bottom\n",
    "    .replace({'stabr': state_name_mapping})\n",
    "    .rename(columns={'stabr': 'State', 'Since 1987': 'Percent Change'})\n",
    "    .style\n",
    "    .set_table_attributes(\"style='display:inline'\")\n",
    "    .set_caption('Bottom 5 - % Change in Per Student Spending')\n",
    "    .set_table_styles([\n",
    "        {'selector': 'caption',\n",
    "         'props': [('white-space', 'nowrap'), ('text-align', 'left'), ('font-size', '16px')]}\n",
    "    ])\n",
    "    .hide()\n",
    "    .format({'Percent Change': '{:,.1%}'.format}, precision=2)\n",
    ")\n",
    "\n",
    "display_html(fiscal_1987_top_styler._repr_html_()+'&emsp;'+'&emsp;'+'&emsp;'+fiscal_1987_bottom_styler._repr_html_(), raw=True)"
   ]
  },
  {
   "cell_type": "markdown",
   "metadata": {},
   "source": [
    "### Top/Bottom 5 in % Change in Spending Since 2003\n",
    "Since the NAEP scores for NAEP tests with accommodations only exist from 2003 and after, here are the same tables but calculated since 2003:"
   ]
  },
  {
   "cell_type": "code",
   "execution_count": 26,
   "metadata": {},
   "outputs": [
    {
     "data": {
      "text/html": [
       "<style type=\"text/css\">\n",
       "#T_ed4e2 caption {\n",
       "  white-space: nowrap;\n",
       "  text-align: left;\n",
       "  font-size: 16px;\n",
       "}\n",
       "</style>\n",
       "<table id=\"T_ed4e2\" style='display:inline'>\n",
       "  <caption>Top 5 - % Change in Per Student Spending</caption>\n",
       "  <thead>\n",
       "    <tr>\n",
       "      <th id=\"T_ed4e2_level0_col0\" class=\"col_heading level0 col0\" >State</th>\n",
       "      <th id=\"T_ed4e2_level0_col1\" class=\"col_heading level0 col1\" >Percent Change</th>\n",
       "    </tr>\n",
       "  </thead>\n",
       "  <tbody>\n",
       "    <tr>\n",
       "      <td id=\"T_ed4e2_row0_col0\" class=\"data row0 col0\" >Vermont</td>\n",
       "      <td id=\"T_ed4e2_row0_col1\" class=\"data row0 col1\" >49.8%</td>\n",
       "    </tr>\n",
       "    <tr>\n",
       "      <td id=\"T_ed4e2_row1_col0\" class=\"data row1 col0\" >North Dakota</td>\n",
       "      <td id=\"T_ed4e2_row1_col1\" class=\"data row1 col1\" >48.1%</td>\n",
       "    </tr>\n",
       "    <tr>\n",
       "      <td id=\"T_ed4e2_row2_col0\" class=\"data row2 col0\" >Washington</td>\n",
       "      <td id=\"T_ed4e2_row2_col1\" class=\"data row2 col1\" >45.3%</td>\n",
       "    </tr>\n",
       "    <tr>\n",
       "      <td id=\"T_ed4e2_row3_col0\" class=\"data row3 col0\" >New York</td>\n",
       "      <td id=\"T_ed4e2_row3_col1\" class=\"data row3 col1\" >41.8%</td>\n",
       "    </tr>\n",
       "    <tr>\n",
       "      <td id=\"T_ed4e2_row4_col0\" class=\"data row4 col0\" >Hawaii</td>\n",
       "      <td id=\"T_ed4e2_row4_col1\" class=\"data row4 col1\" >39.7%</td>\n",
       "    </tr>\n",
       "  </tbody>\n",
       "</table>\n",
       "&emsp;&emsp;&emsp;<style type=\"text/css\">\n",
       "#T_18bfd caption {\n",
       "  white-space: nowrap;\n",
       "  text-align: left;\n",
       "  font-size: 16px;\n",
       "}\n",
       "</style>\n",
       "<table id=\"T_18bfd\" style='display:inline'>\n",
       "  <caption>Bottom 5 - % Change in Per Student Spending</caption>\n",
       "  <thead>\n",
       "    <tr>\n",
       "      <th id=\"T_18bfd_level0_col0\" class=\"col_heading level0 col0\" >State</th>\n",
       "      <th id=\"T_18bfd_level0_col1\" class=\"col_heading level0 col1\" >Percent Change</th>\n",
       "    </tr>\n",
       "  </thead>\n",
       "  <tbody>\n",
       "    <tr>\n",
       "      <td id=\"T_18bfd_row0_col0\" class=\"data row0 col0\" >Georgia</td>\n",
       "      <td id=\"T_18bfd_row0_col1\" class=\"data row0 col1\" >4.4%</td>\n",
       "    </tr>\n",
       "    <tr>\n",
       "      <td id=\"T_18bfd_row1_col0\" class=\"data row1 col0\" >Nevada</td>\n",
       "      <td id=\"T_18bfd_row1_col1\" class=\"data row1 col1\" >3.5%</td>\n",
       "    </tr>\n",
       "    <tr>\n",
       "      <td id=\"T_18bfd_row2_col0\" class=\"data row2 col0\" >Michigan</td>\n",
       "      <td id=\"T_18bfd_row2_col1\" class=\"data row2 col1\" >2.0%</td>\n",
       "    </tr>\n",
       "    <tr>\n",
       "      <td id=\"T_18bfd_row3_col0\" class=\"data row3 col0\" >Idaho</td>\n",
       "      <td id=\"T_18bfd_row3_col1\" class=\"data row3 col1\" >-1.6%</td>\n",
       "    </tr>\n",
       "    <tr>\n",
       "      <td id=\"T_18bfd_row4_col0\" class=\"data row4 col0\" >Indiana</td>\n",
       "      <td id=\"T_18bfd_row4_col1\" class=\"data row4 col1\" >-5.0%</td>\n",
       "    </tr>\n",
       "  </tbody>\n",
       "</table>\n",
       "<br>"
      ]
     },
     "metadata": {},
     "output_type": "display_data"
    }
   ],
   "source": [
    "# Table showing top and bottom 5 % change since 2003\n",
    "fiscal_2003_change = (\n",
    "    fiscal_change\n",
    "    .sort_values(by='Since 2003', ascending=False)\n",
    "    .reset_index()\n",
    "    .loc[:, ['stabr', 'Since 2003']]\n",
    ")\n",
    "\n",
    "fiscal_2003_top = fiscal_2003_change.head()\n",
    "fiscal_2003_bottom = fiscal_2003_change.tail()\n",
    "\n",
    "# Formatting for table display\n",
    "fiscal_2003_top_styler = (\n",
    "    fiscal_2003_top\n",
    "    .replace({'stabr': state_name_mapping})\n",
    "    .rename(columns={'stabr': 'State', 'Since 2003': 'Percent Change'})\n",
    "    .style\n",
    "    .set_table_attributes(\"style='display:inline'\")\n",
    "    .set_caption('Top 5 - % Change in Per Student Spending')\n",
    "    .set_table_styles([\n",
    "        {'selector': 'caption',\n",
    "         'props': [('white-space', 'nowrap'), ('text-align', 'left'), ('font-size', '16px')]}\n",
    "    ])\n",
    "    .hide()\n",
    "    .format({'Percent Change': '{:,.1%}'.format}, precision=2)\n",
    ")\n",
    "fiscal_2003_bottom_styler = (\n",
    "    fiscal_2003_bottom\n",
    "    .replace({'stabr': state_name_mapping})\n",
    "    .rename(columns={'stabr': 'State', 'Since 2003': 'Percent Change'})\n",
    "    .style\n",
    "    .set_table_attributes(\"style='display:inline'\")\n",
    "    .set_caption('Bottom 5 - % Change in Per Student Spending')\n",
    "    .set_table_styles([\n",
    "        {'selector': 'caption',\n",
    "         'props': [('white-space', 'nowrap'), ('text-align', 'left'), ('font-size', '16px')]}\n",
    "    ])\n",
    "    .hide()\n",
    "    .format({'Percent Change': '{:,.1%}'.format}, precision=2)\n",
    ")\n",
    "\n",
    "display_html(fiscal_2003_top_styler._repr_html_()+'&emsp;'+'&emsp;'+'&emsp;'+fiscal_2003_bottom_styler._repr_html_()+'<br>', raw=True)"
   ]
  },
  {
   "cell_type": "markdown",
   "metadata": {},
   "source": [
    "# 4. Visual Comparison of Trends\n",
    "Inspecting the top/bottom 5 tables above, besides Hawaii, no top spending growth state is a top academic improver and no bottom spending growth state is a bottom academic improver. This begins to suggest that perhaps there may not be a relationship between spending and academic success.\n",
    "\n",
    "In the graphic below, we get some more clues that the relationship is tenuous. The big takeaway from this visualization is that no matter what settings are used for time span or subject, the two maps don't look similar. That is to say, it doesn't appear that states that increased spending more have increased their test scores."
   ]
  },
  {
   "cell_type": "code",
   "execution_count": null,
   "metadata": {},
   "outputs": [],
   "source": [
    "# Queries obtaining data to generate map viz of NAEP and spending % change.\n",
    "\n",
    "#####################\n",
    "### NAEP % CHANGE ###\n",
    "#####################\n",
    "cursor.execute('''\n",
    "    SELECT\n",
    "        end_year,\n",
    "        jurisdiction,\n",
    "        math_read as subject,\n",
    "        mean as avg_naep\n",
    "    FROM\n",
    "        naep\n",
    "    WHERE\n",
    "        accommodations = 'R3'\n",
    "        AND grade = 8\n",
    "        AND jurisdiction NOT LIKE 'X%'\n",
    "        AND jurisdiction NOT IN ('NT', 'NP', 'NR', 'AS', 'GU', 'VI', 'YA',\n",
    "                                 'PR', 'DS', 'NL', 'DC')\n",
    "    ;\n",
    "''')\n",
    "\n",
    "naep_map = pd.DataFrame(cursor.fetchall(),\n",
    "                    columns=[column[0] for column in cursor.description])\n",
    "\n",
    "naep_map_pivot = naep_map.pivot(index=['jurisdiction', 'subject'],\n",
    "                            columns='end_year',\n",
    "                            values='avg_naep')\n",
    "\n",
    "naep_map_change = (\n",
    "    naep_map_pivot[2024]\n",
    "    .div(naep_map_pivot[2003])\n",
    "    .subtract(1)\n",
    "    .rename('Percent Change')\n",
    ")\n",
    "\n",
    "naep_map_change.to_csv('naep_change.csv')\n",
    "\n",
    "#########################\n",
    "### Spending % CHANGE ###\n",
    "#########################\n",
    "\n",
    "cursor.execute('''\n",
    "    SELECT\n",
    "        fiscal.end_year,\n",
    "        fiscal.te11 / membership.student_count as exp_per_stu,\n",
    "        fiscal.stabr\n",
    "    FROM\n",
    "        fiscal\n",
    "    INNER JOIN\n",
    "        membership\n",
    "        ON fiscal.end_year = membership.end_year\n",
    "        AND fiscal.fipst = membership.fipst\n",
    "    WHERE \n",
    "        membership.total_indicator = 'Derived - Education Unit Total minus Adult Education Count'\n",
    "        AND fiscal.stabr NOT IN ('GU', 'VI','AS', 'PR', 'DC', 'MP')\n",
    "    ;\n",
    "''')\n",
    "\n",
    "fiscal_map = pd.DataFrame(cursor.fetchall(),\n",
    "                          columns=[column[0] for column in cursor.description])\n",
    "\n",
    "# Adjust spending for inflation\n",
    "fiscal_map['exp_ia'] = fiscal_map['exp_per_stu'] * fiscal_map['end_year'].map(cpi_data)\n",
    "fiscal_map = fiscal_map.drop(columns=['exp_per_stu'])\n",
    "\n",
    "fiscal_map_pivot = fiscal_map.pivot(columns=['end_year'], index=['stabr'], values='exp_ia')\n",
    "fiscal_map_change = pd.DataFrame({\n",
    "    'Since 1987': (fiscal_map_pivot[2022].div(fiscal_map_pivot[1987]) - 1),\n",
    "    'Since 2003': (fiscal_map_pivot[2022].div(fiscal_map_pivot[2003]) - 1),\n",
    "})\n",
    "\n",
    "(\n",
    "    fiscal_map_change\n",
    "    .reset_index()\n",
    "    .melt(id_vars='stabr',\n",
    "          value_vars=['Since 1987', 'Since 2003'],\n",
    "          value_name='Percent Change in Spending',\n",
    "          var_name='Timespan')\n",
    "    .to_csv('fiscal_change.csv', index=False)\n",
    ")"
   ]
  },
  {
   "cell_type": "code",
   "execution_count": 1020,
   "metadata": {
    "vscode": {
     "languageId": "html"
    }
   },
   "outputs": [
    {
     "data": {
      "text/html": [
       "<div class='tableauPlaceholder' id='viz1744061276835' style='position: relative'><noscript><a href='#'><img alt='Dashboard 1 ' src='https:&#47;&#47;public.tableau.com&#47;static&#47;images&#47;Ma&#47;Mapsofedchanges&#47;Dashboard1&#47;1_rss.png' style='border: none' /></a></noscript><object class='tableauViz'  style='display:none;'><param name='host_url' value='https%3A%2F%2Fpublic.tableau.com%2F' /> <param name='embed_code_version' value='3' /> <param name='site_root' value='' /><param name='name' value='Mapsofedchanges&#47;Dashboard1' /><param name='tabs' value='no' /><param name='toolbar' value='yes' /><param name='static_image' value='https:&#47;&#47;public.tableau.com&#47;static&#47;images&#47;Ma&#47;Mapsofedchanges&#47;Dashboard1&#47;1.png' /> <param name='animate_transition' value='yes' /><param name='display_static_image' value='yes' /><param name='display_spinner' value='yes' /><param name='display_overlay' value='yes' /><param name='display_count' value='yes' /><param name='language' value='en-US' /><param name='filter' value='publish=yes' /></object></div>                <script type='text/javascript'>                    var divElement = document.getElementById('viz1744061276835');                    var vizElement = divElement.getElementsByTagName('object')[0];                    if ( divElement.offsetWidth > 800 ) { vizElement.style.minWidth='420px';vizElement.style.maxWidth='900px';vizElement.style.width='100%';vizElement.style.minHeight='587px';vizElement.style.maxHeight='1127px';vizElement.style.height=(divElement.offsetWidth*0.75)+'px';} else if ( divElement.offsetWidth > 500 ) { vizElement.style.minWidth='420px';vizElement.style.maxWidth='900px';vizElement.style.width='100%';vizElement.style.minHeight='587px';vizElement.style.maxHeight='1127px';vizElement.style.height=(divElement.offsetWidth*0.75)+'px';} else { vizElement.style.width='100%';vizElement.style.height='1027px';}                     var scriptElement = document.createElement('script');                    scriptElement.src = 'https://public.tableau.com/javascripts/api/viz_v1.js';                    vizElement.parentNode.insertBefore(scriptElement, vizElement);                </script>\n",
       "<br>\n"
      ],
      "text/plain": [
       "<IPython.core.display.HTML object>"
      ]
     },
     "metadata": {},
     "output_type": "display_data"
    }
   ],
   "source": [
    "%%html\n",
    "<div class='tableauPlaceholder' id='viz1744061276835' style='position: relative'><noscript><a href='#'><img alt='Dashboard 1 ' src='https:&#47;&#47;public.tableau.com&#47;static&#47;images&#47;Ma&#47;Mapsofedchanges&#47;Dashboard1&#47;1_rss.png' style='border: none' /></a></noscript><object class='tableauViz'  style='display:none;'><param name='host_url' value='https%3A%2F%2Fpublic.tableau.com%2F' /> <param name='embed_code_version' value='3' /> <param name='site_root' value='' /><param name='name' value='Mapsofedchanges&#47;Dashboard1' /><param name='tabs' value='no' /><param name='toolbar' value='yes' /><param name='static_image' value='https:&#47;&#47;public.tableau.com&#47;static&#47;images&#47;Ma&#47;Mapsofedchanges&#47;Dashboard1&#47;1.png' /> <param name='animate_transition' value='yes' /><param name='display_static_image' value='yes' /><param name='display_spinner' value='yes' /><param name='display_overlay' value='yes' /><param name='display_count' value='yes' /><param name='language' value='en-US' /><param name='filter' value='publish=yes' /></object></div>                <script type='text/javascript'>                    var divElement = document.getElementById('viz1744061276835');                    var vizElement = divElement.getElementsByTagName('object')[0];                    if ( divElement.offsetWidth > 800 ) { vizElement.style.minWidth='420px';vizElement.style.maxWidth='900px';vizElement.style.width='100%';vizElement.style.minHeight='587px';vizElement.style.maxHeight='1127px';vizElement.style.height=(divElement.offsetWidth*0.75)+'px';} else if ( divElement.offsetWidth > 500 ) { vizElement.style.minWidth='420px';vizElement.style.maxWidth='900px';vizElement.style.width='100%';vizElement.style.minHeight='587px';vizElement.style.maxHeight='1127px';vizElement.style.height=(divElement.offsetWidth*0.75)+'px';} else { vizElement.style.width='100%';vizElement.style.height='1027px';}                     var scriptElement = document.createElement('script');                    scriptElement.src = 'https://public.tableau.com/javascripts/api/viz_v1.js';                    vizElement.parentNode.insertBefore(scriptElement, vizElement);                </script>\n",
    "<br>"
   ]
  },
  {
   "cell_type": "markdown",
   "metadata": {},
   "source": [
    "For the curious reader, the following combo-graph can be used to inspect spending and NAEP score changes for each individual state:"
   ]
  },
  {
   "cell_type": "code",
   "execution_count": null,
   "metadata": {},
   "outputs": [],
   "source": [
    "# Table generated to display line graphs together and to place null values\n",
    "# where appropriate to make graphs pretty.\n",
    "\n",
    "cursor.execute('''\n",
    "       SELECT\n",
    "              fiscal.end_year,\n",
    "              SUM(fiscal.te11) / SUM(membership.student_count) as avg_exp_per_stu,\n",
    "              fiscal.stabr as jurisdiction\n",
    "       FROM\n",
    "              fiscal\n",
    "       INNER JOIN\n",
    "              membership\n",
    "       ON\n",
    "              fiscal.end_year = membership.end_year\n",
    "       AND\n",
    "              fiscal.fipst = membership.fipst\n",
    "       WHERE\n",
    "              membership.total_indicator = 'Derived - Education Unit Total minus Adult Education Count'\n",
    "       GROUP BY\n",
    "              fiscal.end_year, fiscal.fipst\n",
    "       ;\n",
    "''')\n",
    "\n",
    "fiscal = pd.DataFrame(cursor.fetchall(),\n",
    "                      columns=[column[0] for column in cursor.description])\n",
    "\n",
    "# Calculate national expenditures per student (coded as NT)\n",
    "cursor.execute('''\n",
    "       SELECT\n",
    "              fiscal.end_year,\n",
    "              SUM(fiscal.te11) / SUM(membership.student_count) as avg_exp_per_stu,\n",
    "              'NT' as jurisdiction\n",
    "       FROM\n",
    "              fiscal\n",
    "       INNER JOIN\n",
    "              membership\n",
    "       ON\n",
    "              fiscal.end_year = membership.end_year\n",
    "       AND\n",
    "              fiscal.fipst = membership.fipst\n",
    "       WHERE\n",
    "              membership.total_indicator = 'Derived - Education Unit Total minus Adult Education Count'\n",
    "       GROUP BY\n",
    "              fiscal.end_year\n",
    "       ;\n",
    "''')\n",
    "\n",
    "fiscal_nt = pd.DataFrame(cursor.fetchall(),\n",
    "                         columns=[column[0] for column in cursor.description])\n",
    "\n",
    "fiscal = pd.concat([fiscal, fiscal_nt])\n",
    "\n",
    "# Adjust for inflation\n",
    "fiscal['exp_per_stu_ia'] = fiscal['avg_exp_per_stu'] * fiscal['end_year'].map(cpi_data)\n",
    "fiscal = fiscal.drop(columns=['avg_exp_per_stu'])\n",
    "\n",
    "# Obtain table of NAEP Scores.\n",
    "cursor.execute('''\n",
    "    SELECT\n",
    "        end_year,\n",
    "        jurisdiction,\n",
    "        math_read as subject,\n",
    "        accommodations,\n",
    "        mean as avg_naep\n",
    "    FROM\n",
    "        naep\n",
    "    WHERE\n",
    "        grade = 8\n",
    "        AND jurisdiction NOT LIKE 'X%'\n",
    "        AND jurisdiction NOT IN ('NP', 'NR', 'AS', 'GU', 'VI', 'YA',\n",
    "                                 'PR', 'DS', 'NL', 'DC')\n",
    "    ;\n",
    "''')\n",
    "\n",
    "naep = pd.DataFrame(cursor.fetchall(),\n",
    "                    columns=[column[0] for column in cursor.description])\n",
    "\n",
    "filters = [range(1987, 2025),\n",
    "           naep['jurisdiction'].unique(),\n",
    "           ['R2', 'R3'],\n",
    "           ['MAT', 'RED']]\n",
    "\n",
    "filter_product = pd.DataFrame(list(product(*filters)),\n",
    "                    columns=['end_year', 'jurisdiction', 'accommodations', 'subject'])\n",
    "\n",
    "# filter_product\n",
    "naep_exp_with_null = (\n",
    "   filter_product\n",
    "   .merge(fiscal,\n",
    "          on=['end_year', 'jurisdiction'],\n",
    "          how='left')\n",
    "   .merge(naep,\n",
    "          on=['end_year', 'jurisdiction', 'subject', 'accommodations'],\n",
    "          how='left')\n",
    ")\n",
    "\n",
    "naep_exp_with_null['jurisdiction'] = (\n",
    "       naep_exp_with_null['jurisdiction']\n",
    "       .replace({'NT': 'National Average'})\n",
    ")\n",
    "\n",
    "naep_exp_with_null.to_csv('naep_exp_with_null.csv', index=False)"
   ]
  },
  {
   "cell_type": "code",
   "execution_count": 1021,
   "metadata": {
    "vscode": {
     "languageId": "html"
    }
   },
   "outputs": [
    {
     "data": {
      "text/html": [
       "<div class='tableauPlaceholder' id='viz1744057974228' style='position: relative'><noscript><a href='#'><img alt='Dashboard 2 ' src='https:&#47;&#47;public.tableau.com&#47;static&#47;images&#47;Sp&#47;SpendingandNAEPperstatedashboard&#47;Dashboard2&#47;1_rss.png' style='border: none' /></a></noscript><object class='tableauViz'  style='display:none;'><param name='host_url' value='https%3A%2F%2Fpublic.tableau.com%2F' /> <param name='embed_code_version' value='3' /> <param name='site_root' value='' /><param name='name' value='SpendingandNAEPperstatedashboard&#47;Dashboard2' /><param name='tabs' value='no' /><param name='toolbar' value='yes' /><param name='static_image' value='https:&#47;&#47;public.tableau.com&#47;static&#47;images&#47;Sp&#47;SpendingandNAEPperstatedashboard&#47;Dashboard2&#47;1.png' /> <param name='animate_transition' value='yes' /><param name='display_static_image' value='yes' /><param name='display_spinner' value='yes' /><param name='display_overlay' value='yes' /><param name='display_count' value='yes' /><param name='language' value='en-US' /><param name='filter' value='publish=yes' /></object></div>                <script type='text/javascript'>                    var divElement = document.getElementById('viz1744057974228');                    var vizElement = divElement.getElementsByTagName('object')[0];                    if ( divElement.offsetWidth > 800 ) { vizElement.style.minWidth='420px';vizElement.style.maxWidth='800px';vizElement.style.width='100%';vizElement.style.minHeight='587px';vizElement.style.maxHeight='1027px';vizElement.style.height=(divElement.offsetWidth*0.75)+'px';} else if ( divElement.offsetWidth > 500 ) { vizElement.style.minWidth='420px';vizElement.style.maxWidth='800px';vizElement.style.width='100%';vizElement.style.minHeight='587px';vizElement.style.maxHeight='1027px';vizElement.style.height=(divElement.offsetWidth*0.75)+'px';} else { vizElement.style.width='100%';vizElement.style.height='827px';}                     var scriptElement = document.createElement('script');                    scriptElement.src = 'https://public.tableau.com/javascripts/api/viz_v1.js';                    vizElement.parentNode.insertBefore(scriptElement, vizElement);                </script>\n",
       "<br>\n"
      ],
      "text/plain": [
       "<IPython.core.display.HTML object>"
      ]
     },
     "metadata": {},
     "output_type": "display_data"
    }
   ],
   "source": [
    "%%html\n",
    "<div class='tableauPlaceholder' id='viz1744057974228' style='position: relative'><noscript><a href='#'><img alt='Dashboard 2 ' src='https:&#47;&#47;public.tableau.com&#47;static&#47;images&#47;Sp&#47;SpendingandNAEPperstatedashboard&#47;Dashboard2&#47;1_rss.png' style='border: none' /></a></noscript><object class='tableauViz'  style='display:none;'><param name='host_url' value='https%3A%2F%2Fpublic.tableau.com%2F' /> <param name='embed_code_version' value='3' /> <param name='site_root' value='' /><param name='name' value='SpendingandNAEPperstatedashboard&#47;Dashboard2' /><param name='tabs' value='no' /><param name='toolbar' value='yes' /><param name='static_image' value='https:&#47;&#47;public.tableau.com&#47;static&#47;images&#47;Sp&#47;SpendingandNAEPperstatedashboard&#47;Dashboard2&#47;1.png' /> <param name='animate_transition' value='yes' /><param name='display_static_image' value='yes' /><param name='display_spinner' value='yes' /><param name='display_overlay' value='yes' /><param name='display_count' value='yes' /><param name='language' value='en-US' /><param name='filter' value='publish=yes' /></object></div>                <script type='text/javascript'>                    var divElement = document.getElementById('viz1744057974228');                    var vizElement = divElement.getElementsByTagName('object')[0];                    if ( divElement.offsetWidth > 800 ) { vizElement.style.minWidth='420px';vizElement.style.maxWidth='800px';vizElement.style.width='100%';vizElement.style.minHeight='587px';vizElement.style.maxHeight='1027px';vizElement.style.height=(divElement.offsetWidth*0.75)+'px';} else if ( divElement.offsetWidth > 500 ) { vizElement.style.minWidth='420px';vizElement.style.maxWidth='800px';vizElement.style.width='100%';vizElement.style.minHeight='587px';vizElement.style.maxHeight='1027px';vizElement.style.height=(divElement.offsetWidth*0.75)+'px';} else { vizElement.style.width='100%';vizElement.style.height='827px';}                     var scriptElement = document.createElement('script');                    scriptElement.src = 'https://public.tableau.com/javascripts/api/viz_v1.js';                    vizElement.parentNode.insertBefore(scriptElement, vizElement);                </script>\n",
    "<br>"
   ]
  },
  {
   "cell_type": "markdown",
   "metadata": {},
   "source": [
    "# 5. Models\n",
    "\n",
    "The visualizations above offer some clues, suggesting that there may not be a terribly strong relationship between per-student spending and NAEP scores. To further inspect the data, let's fit some linear models to see if there's any evidence of a relationship that can't be seen in visualizations."
   ]
  },
  {
   "cell_type": "code",
   "execution_count": 10,
   "metadata": {},
   "outputs": [],
   "source": [
    "# Query to generate table used for models.\n",
    "\n",
    "cursor.execute('''\n",
    "    WITH fiscal_cte as (\n",
    "        SELECT\n",
    "            fiscal.end_year,\n",
    "            fiscal.te11 as total_exp,\n",
    "            membership.student_count as total_mem,\n",
    "            SUM(fiscal.te11) / SUM(membership.student_count) as exp_per_stu,\n",
    "            fiscal.fipst,\n",
    "            fiscal.stabr\n",
    "        FROM fiscal\n",
    "        INNER JOIN membership\n",
    "        ON fiscal.end_year = membership.end_year\n",
    "        AND fiscal.fipst = membership.fipst\n",
    "        WHERE membership.total_indicator = 'Derived - Education Unit Total minus Adult Education Count'\n",
    "        GROUP BY fiscal.end_year, fiscal.fipst\n",
    "    ),\n",
    "    naep_cte as (\n",
    "        SELECT\n",
    "            end_year,\n",
    "            math_read,\n",
    "            mean as avg_naep,\n",
    "            accommodations,\n",
    "            jurisdiction\n",
    "        FROM\n",
    "            naep\n",
    "        WHERE\n",
    "            grade = 8\n",
    "    )\n",
    "    SELECT\n",
    "        COALESCE(naep_cte.end_year, fiscal_cte.end_year) as end_year,\n",
    "        COALESCE(naep_cte.jurisdiction, fiscal_cte.stabr) as state,\n",
    "        naep_cte.math_read,\n",
    "        naep_cte.avg_naep,\n",
    "        naep_cte.accommodations,\n",
    "        fiscal_cte.exp_per_stu\n",
    "        --fiscal_cte.total_exp,\n",
    "        --fiscal_cte.total_mem\n",
    "    FROM fiscal_cte\n",
    "    FULL JOIN naep_cte\n",
    "    ON fiscal_cte.end_year = naep_cte.end_year\n",
    "    AND fiscal_cte.stabr = naep_cte.jurisdiction\n",
    "    WHERE\n",
    "        naep_cte.jurisdiction NOT LIKE 'X%' \n",
    "        AND naep_cte.jurisdiction NOT IN ('NT', 'NP', 'NR', 'AS', 'GU', 'VI', 'YA',\n",
    "                                 'PR', 'DS', 'NL', 'DC')\n",
    "    ;\n",
    "''')\n",
    "\n",
    "df = pd.DataFrame(cursor.fetchall(),\n",
    "                              columns=[column[0] for column in cursor.description])\n",
    "\n",
    "# Adjust for inflation\n",
    "df['exp_per_stu_ia'] = (\n",
    "    df['exp_per_stu'] * df['end_year'].map(cpi_data)\n",
    ")\n",
    "\n",
    "df = df.drop(columns=['exp_per_stu'])\n",
    "\n",
    "# Create z-scores for future plotting/analysis\n",
    "df['z_exp_per_stu_ia'] = df.groupby('state')['avg_naep'].transform(lambda x: (x - x.mean()) / x.std())\n",
    "\n",
    "df.to_csv('naep_fiscal_total.csv', index=False)"
   ]
  },
  {
   "cell_type": "markdown",
   "metadata": {},
   "source": [
    "First, let's use a simple linear model, notated as:\n",
    "$$ NAEPscore_{i,j} \\sim spending_{i,j} + accom_{i,j} + subject_{i,j} $$ \n",
    "where $i = state$ and $j=year$."
   ]
  },
  {
   "cell_type": "code",
   "execution_count": 29,
   "metadata": {},
   "outputs": [
    {
     "name": "stdout",
     "output_type": "stream",
     "text": [
      "                            OLS Regression Results                            \n",
      "==============================================================================\n",
      "Dep. Variable:               avg_naep   R-squared:                       0.579\n",
      "Model:                            OLS   Adj. R-squared:                  0.578\n",
      "Method:                 Least Squares   F-statistic:                     597.8\n",
      "Date:                Sat, 12 Apr 2025   Prob (F-statistic):          2.10e-244\n",
      "Time:                        09:30:32   Log-Likelihood:                -4403.2\n",
      "No. Observations:                1309   AIC:                             8814.\n",
      "Df Residuals:                    1305   BIC:                             8835.\n",
      "Df Model:                           3                                         \n",
      "Covariance Type:            nonrobust                                         \n",
      "=========================================================================================\n",
      "                            coef    std err          t      P>|t|      [0.025      0.975]\n",
      "-----------------------------------------------------------------------------------------\n",
      "Intercept               262.9744      0.789    333.209      0.000     261.426     264.523\n",
      "math_read[T.RED]        -15.8036      0.399    -39.595      0.000     -16.587     -15.021\n",
      "accommodations[T.R3]      6.5232      0.595     10.970      0.000       5.357       7.690\n",
      "exp_per_stu_ia_scaled     9.7450      0.766     12.719      0.000       8.242      11.248\n",
      "==============================================================================\n",
      "Omnibus:                       23.987   Durbin-Watson:                   1.259\n",
      "Prob(Omnibus):                  0.000   Jarque-Bera (JB):               22.914\n",
      "Skew:                          -0.286   Prob(JB):                     1.06e-05\n",
      "Kurtosis:                       2.697   Cond. No.                         9.33\n",
      "==============================================================================\n",
      "\n",
      "Notes:\n",
      "[1] Standard Errors assume that the covariance matrix of the errors is correctly specified.\n"
     ]
    }
   ],
   "source": [
    "# VERY SIMPLE OLS MODEL\n",
    "\n",
    "# Reduce scale of expenditure per student.\n",
    "df['exp_per_stu_ia_scaled'] = df['exp_per_stu_ia'] / df['exp_per_stu_ia'].mean()\n",
    "\n",
    "model = smf.ols('avg_naep ~ exp_per_stu_ia_scaled + math_read + accommodations', data=df).fit()\n",
    "print(model.summary())"
   ]
  },
  {
   "cell_type": "markdown",
   "metadata": {},
   "source": [
    "This shows that there is a positive relationship between spending and NAEP scores: the estimated coefficient of the spending per student term, ```exp_per_stu_ia_scaled```[<sup>1</sup>](#fn1), is positive with p-value $<.0001$. And this tracks with the following scatter plots. You can see that at every combination of subject and accommodation there's a positive relationship between per-student spending and NAEP scores."
   ]
  },
  {
   "cell_type": "code",
   "execution_count": 27,
   "metadata": {
    "vscode": {
     "languageId": "html"
    }
   },
   "outputs": [
    {
     "data": {
      "text/html": [
       "<div class='tableauPlaceholder' id='viz1744151814181' style='position: relative'><noscript><a href='#'><img alt='NAEP vs Spending- across subject and accommodations ' src='https:&#47;&#47;public.tableau.com&#47;static&#47;images&#47;NA&#47;NAEPvsSpendingpanel&#47;NAEPvsSpending&#47;1_rss.png' style='border: none' /></a></noscript><object class='tableauViz'  style='display:none;'><param name='host_url' value='https%3A%2F%2Fpublic.tableau.com%2F' /> <param name='embed_code_version' value='3' /> <param name='site_root' value='' /><param name='name' value='NAEPvsSpendingpanel&#47;NAEPvsSpending' /><param name='tabs' value='no' /><param name='toolbar' value='yes' /><param name='static_image' value='https:&#47;&#47;public.tableau.com&#47;static&#47;images&#47;NA&#47;NAEPvsSpendingpanel&#47;NAEPvsSpending&#47;1.png' /> <param name='animate_transition' value='yes' /><param name='display_static_image' value='yes' /><param name='display_spinner' value='yes' /><param name='display_overlay' value='yes' /><param name='display_count' value='yes' /><param name='language' value='en-US' /></object></div>                <script type='text/javascript'>                    var divElement = document.getElementById('viz1744151814181');                    var vizElement = divElement.getElementsByTagName('object')[0];                    vizElement.style.width='100%';vizElement.style.height=(divElement.offsetWidth*0.75)+'px';                    var scriptElement = document.createElement('script');                    scriptElement.src = 'https://public.tableau.com/javascripts/api/viz_v1.js';                    vizElement.parentNode.insertBefore(scriptElement, vizElement);                </script>\n",
       "<br>\n"
      ],
      "text/plain": [
       "<IPython.core.display.HTML object>"
      ]
     },
     "metadata": {},
     "output_type": "display_data"
    }
   ],
   "source": [
    "%%html\n",
    "<div class='tableauPlaceholder' id='viz1744151814181' style='position: relative'><noscript><a href='#'><img alt='NAEP vs Spending- across subject and accommodations ' src='https:&#47;&#47;public.tableau.com&#47;static&#47;images&#47;NA&#47;NAEPvsSpendingpanel&#47;NAEPvsSpending&#47;1_rss.png' style='border: none' /></a></noscript><object class='tableauViz'  style='display:none;'><param name='host_url' value='https%3A%2F%2Fpublic.tableau.com%2F' /> <param name='embed_code_version' value='3' /> <param name='site_root' value='' /><param name='name' value='NAEPvsSpendingpanel&#47;NAEPvsSpending' /><param name='tabs' value='no' /><param name='toolbar' value='yes' /><param name='static_image' value='https:&#47;&#47;public.tableau.com&#47;static&#47;images&#47;NA&#47;NAEPvsSpendingpanel&#47;NAEPvsSpending&#47;1.png' /> <param name='animate_transition' value='yes' /><param name='display_static_image' value='yes' /><param name='display_spinner' value='yes' /><param name='display_overlay' value='yes' /><param name='display_count' value='yes' /><param name='language' value='en-US' /></object></div>                <script type='text/javascript'>                    var divElement = document.getElementById('viz1744151814181');                    var vizElement = divElement.getElementsByTagName('object')[0];                    vizElement.style.width='100%';vizElement.style.height=(divElement.offsetWidth*0.75)+'px';                    var scriptElement = document.createElement('script');                    scriptElement.src = 'https://public.tableau.com/javascripts/api/viz_v1.js';                    vizElement.parentNode.insertBefore(scriptElement, vizElement);                </script>\n",
    "<br>"
   ]
  },
  {
   "cell_type": "markdown",
   "metadata": {},
   "source": [
    "But things may not be as they seem! This does not account for the differences *between* states. Let's standardize NAEP scores for each state then plot those against spending per student."
   ]
  },
  {
   "cell_type": "code",
   "execution_count": 1023,
   "metadata": {
    "vscode": {
     "languageId": "html"
    }
   },
   "outputs": [
    {
     "data": {
      "text/html": [
       "<div class='tableauPlaceholder' id='viz1744151649235' style='position: relative'><noscript><a href='#'><img alt='Standardized NAEP vs Spending- across subject and accommodations ' src='https:&#47;&#47;public.tableau.com&#47;static&#47;images&#47;St&#47;StandardizedNAEPvsSpendingpanel&#47;StandardizedNAEPvsSpending&#47;1_rss.png' style='border: none' /></a></noscript><object class='tableauViz'  style='display:none;'><param name='host_url' value='https%3A%2F%2Fpublic.tableau.com%2F' /> <param name='embed_code_version' value='3' /> <param name='site_root' value='' /><param name='name' value='StandardizedNAEPvsSpendingpanel&#47;StandardizedNAEPvsSpending' /><param name='tabs' value='no' /><param name='toolbar' value='yes' /><param name='static_image' value='https:&#47;&#47;public.tableau.com&#47;static&#47;images&#47;St&#47;StandardizedNAEPvsSpendingpanel&#47;StandardizedNAEPvsSpending&#47;1.png' /> <param name='animate_transition' value='yes' /><param name='display_static_image' value='yes' /><param name='display_spinner' value='yes' /><param name='display_overlay' value='yes' /><param name='display_count' value='yes' /><param name='language' value='en-US' /><param name='filter' value='publish=yes' /></object></div>                <script type='text/javascript'>                    var divElement = document.getElementById('viz1744151649235');                    var vizElement = divElement.getElementsByTagName('object')[0];                    vizElement.style.width='100%';vizElement.style.height=(divElement.offsetWidth*0.75)+'px';                    var scriptElement = document.createElement('script');                    scriptElement.src = 'https://public.tableau.com/javascripts/api/viz_v1.js';                    vizElement.parentNode.insertBefore(scriptElement, vizElement);                </script>\n",
       "<br>\n"
      ],
      "text/plain": [
       "<IPython.core.display.HTML object>"
      ]
     },
     "metadata": {},
     "output_type": "display_data"
    }
   ],
   "source": [
    "%%html\n",
    "<div class='tableauPlaceholder' id='viz1744151649235' style='position: relative'><noscript><a href='#'><img alt='Standardized NAEP vs Spending- across subject and accommodations ' src='https:&#47;&#47;public.tableau.com&#47;static&#47;images&#47;St&#47;StandardizedNAEPvsSpendingpanel&#47;StandardizedNAEPvsSpending&#47;1_rss.png' style='border: none' /></a></noscript><object class='tableauViz'  style='display:none;'><param name='host_url' value='https%3A%2F%2Fpublic.tableau.com%2F' /> <param name='embed_code_version' value='3' /> <param name='site_root' value='' /><param name='name' value='StandardizedNAEPvsSpendingpanel&#47;StandardizedNAEPvsSpending' /><param name='tabs' value='no' /><param name='toolbar' value='yes' /><param name='static_image' value='https:&#47;&#47;public.tableau.com&#47;static&#47;images&#47;St&#47;StandardizedNAEPvsSpendingpanel&#47;StandardizedNAEPvsSpending&#47;1.png' /> <param name='animate_transition' value='yes' /><param name='display_static_image' value='yes' /><param name='display_spinner' value='yes' /><param name='display_overlay' value='yes' /><param name='display_count' value='yes' /><param name='language' value='en-US' /><param name='filter' value='publish=yes' /></object></div>                <script type='text/javascript'>                    var divElement = document.getElementById('viz1744151649235');                    var vizElement = divElement.getElementsByTagName('object')[0];                    vizElement.style.width='100%';vizElement.style.height=(divElement.offsetWidth*0.75)+'px';                    var scriptElement = document.createElement('script');                    scriptElement.src = 'https://public.tableau.com/javascripts/api/viz_v1.js';                    vizElement.parentNode.insertBefore(scriptElement, vizElement);                </script>\n",
    "<br>"
   ]
  },
  {
   "cell_type": "markdown",
   "metadata": {},
   "source": [
    "Now the positive relationship seems to have greatly diminished, if not all but disappeared. That is, after accounting for differences between states, there is no longer an obvious positive association between per-student spending and NAEP scores. Let's add a term for the effect of state (a fixed effect for state) to the model above:\n",
    "\n",
    "$$ NAEPscore_{i,j} \\sim spending_{i,j} + accom_{i,j} + subject_{i,j} + F_{i} $$ \n",
    "where $i = state$, $j=year$, and $F_{i}$ is a fixed effect for state."
   ]
  },
  {
   "cell_type": "code",
   "execution_count": 31,
   "metadata": {},
   "outputs": [
    {
     "name": "stdout",
     "output_type": "stream",
     "text": [
      "                          PanelOLS Estimation Summary                           \n",
      "================================================================================\n",
      "Dep. Variable:               avg_naep   R-squared:                        0.7509\n",
      "Estimator:                   PanelOLS   R-squared (Between):              0.1655\n",
      "No. Observations:                1309   R-squared (Within):               0.7509\n",
      "Date:                Sat, Apr 12 2025   R-squared (Overall):              0.5639\n",
      "Time:                        09:31:24   Log-likelihood                   -3808.0\n",
      "Cov. Estimator:            Unadjusted                                           \n",
      "                                        F-statistic:                      1262.3\n",
      "Entities:                          50   P-value                           0.0000\n",
      "Avg Obs:                       26.180   Distribution:                  F(3,1256)\n",
      "Min Obs:                       20.000                                           \n",
      "Max Obs:                       28.000   F-statistic (robust):          3.007e+04\n",
      "                                        P-value                           0.0000\n",
      "Time periods:                      16   Distribution:                  F(3,1256)\n",
      "Avg Obs:                       81.812                                           \n",
      "Min Obs:                       37.000                                           \n",
      "Max Obs:                      100.000                                           \n",
      "                                                                                \n",
      "                                   Parameter Estimates                                   \n",
      "=========================================================================================\n",
      "                       Parameter  Std. Err.     T-stat    P-value    Lower CI    Upper CI\n",
      "-----------------------------------------------------------------------------------------\n",
      "exp_per_stu_ia_scaled     4.6120     1.1104     4.1535     0.0000      2.4336      6.7905\n",
      "math_read[MAT]            267.47     0.9412     284.19     0.0000      265.63      269.32\n",
      "math_read[RED]            251.78     0.9596     262.39     0.0000      249.90      253.67\n",
      "accommodations[T.R3]      7.2039     0.4552     15.824     0.0000      6.3107      8.0970\n",
      "=========================================================================================\n",
      "\n",
      "F-test for Poolability: 38.011\n",
      "P-value: 0.0000\n",
      "Distribution: F(49,1256)\n",
      "\n",
      "Included effects: Entity\n"
     ]
    }
   ],
   "source": [
    "# MODEL WITH STATE AS FIXED EFFECT\n",
    "# One could reason that the fixed effect model should be used for no other reason than\n",
    "# the states don't come from a distribution; they are the entire population!\n",
    "from linearmodels.panel import PanelOLS\n",
    "\n",
    "# Convert to panel data format\n",
    "df = df.set_index([\"state\", \"end_year\"])\n",
    "\n",
    "# Fixed effect model\n",
    "model_fe = PanelOLS.from_formula(\"avg_naep ~ exp_per_stu_ia_scaled + math_read + accommodations + EntityEffects\", df.dropna()).fit()\n",
    "print(model_fe.summary)"
   ]
  },
  {
   "cell_type": "markdown",
   "metadata": {},
   "source": [
    "The term for spending per student is still statistically significant, however the parameter estimate has decreased greatly (from 9.745 to 4.6120) and the T-stat has also decreased a lot (12.719 to 4.1535). Furthermore, the R-squared has gone up a great deal (0.579 to 0.7509) indicating that a large portion of the change in NAEP scores is explained by the fixed effect for state.\n",
    "\n",
    "Also, notice what happens when the term for per-student spending is removed: R-squared barely goes down."
   ]
  },
  {
   "cell_type": "code",
   "execution_count": 32,
   "metadata": {},
   "outputs": [
    {
     "name": "stdout",
     "output_type": "stream",
     "text": [
      "                          PanelOLS Estimation Summary                           \n",
      "================================================================================\n",
      "Dep. Variable:               avg_naep   R-squared:                        0.7205\n",
      "Estimator:                   PanelOLS   R-squared (Between):              0.0505\n",
      "No. Observations:                1409   R-squared (Within):               0.7205\n",
      "Date:                Sat, Apr 12 2025   R-squared (Overall):              0.5173\n",
      "Time:                        09:31:40   Log-likelihood                   -4202.5\n",
      "Cov. Estimator:            Unadjusted                                           \n",
      "                                        F-statistic:                      1748.6\n",
      "Entities:                          50   P-value                           0.0000\n",
      "Avg Obs:                       28.180   Distribution:                  F(2,1357)\n",
      "Min Obs:                       22.000                                           \n",
      "Max Obs:                       30.000   F-statistic (robust):           2.92e+05\n",
      "                                        P-value                           0.0000\n",
      "Time periods:                      17   Distribution:                  F(2,1357)\n",
      "Avg Obs:                       82.882                                           \n",
      "Min Obs:                       37.000                                           \n",
      "Max Obs:                      100.000                                           \n",
      "                                                                                \n",
      "                                  Parameter Estimates                                   \n",
      "========================================================================================\n",
      "                      Parameter  Std. Err.     T-stat    P-value    Lower CI    Upper CI\n",
      "----------------------------------------------------------------------------------------\n",
      "math_read[MAT]           271.12     0.3555     762.66     0.0000      270.43      271.82\n",
      "math_read[RED]           255.44     0.4138     617.23     0.0000      254.63      256.25\n",
      "accommodations[T.R3]     7.7738     0.3894     19.964     0.0000      7.0099      8.5377\n",
      "========================================================================================\n",
      "\n",
      "F-test for Poolability: 40.793\n",
      "P-value: 0.0000\n",
      "Distribution: F(49,1357)\n",
      "\n",
      "Included effects: Entity\n"
     ]
    }
   ],
   "source": [
    "# Model with no effect for spending.\n",
    "\n",
    "model_fe_no_spending = PanelOLS.from_formula(\"avg_naep ~ math_read + accommodations + EntityEffects\", df).fit()\n",
    "print(model_fe_no_spending.summary)"
   ]
  },
  {
   "cell_type": "markdown",
   "metadata": {},
   "source": [
    "This would suggest that spending per student, while statistically significant in explaining changes in NAEP scores, is not practically significant. \n",
    "\n",
    "Moreover, if we fit a model for only the reading NAEP scores, we can say that spending doesn't have anything to do with reading scores (p-value = 0.4825). But this was already obvious from the above visualizations."
   ]
  },
  {
   "cell_type": "code",
   "execution_count": 33,
   "metadata": {},
   "outputs": [
    {
     "name": "stdout",
     "output_type": "stream",
     "text": [
      "                          PanelOLS Estimation Summary                           \n",
      "================================================================================\n",
      "Dep. Variable:               avg_naep   R-squared:                        0.0050\n",
      "Estimator:                   PanelOLS   R-squared (Between):             -0.0305\n",
      "No. Observations:                 613   R-squared (Within):               0.0050\n",
      "Date:                Sat, Apr 12 2025   R-squared (Overall):             -0.0207\n",
      "Time:                        09:31:46   Log-likelihood                   -1538.7\n",
      "Cov. Estimator:            Unadjusted                                           \n",
      "                                        F-statistic:                      1.4087\n",
      "Entities:                          50   P-value                           0.2453\n",
      "Avg Obs:                       12.260   Distribution:                   F(2,561)\n",
      "Min Obs:                      10.0000                                           \n",
      "Max Obs:                       13.000   F-statistic (robust):          3.096e+04\n",
      "                                        P-value                           0.0000\n",
      "Time periods:                      12   Distribution:                   F(2,561)\n",
      "Avg Obs:                       51.083                                           \n",
      "Min Obs:                       41.000                                           \n",
      "Max Obs:                       72.000                                           \n",
      "                                                                                \n",
      "                                   Parameter Estimates                                   \n",
      "=========================================================================================\n",
      "                       Parameter  Std. Err.     T-stat    P-value    Lower CI    Upper CI\n",
      "-----------------------------------------------------------------------------------------\n",
      "exp_per_stu_ia_scaled    -0.7820     1.1129    -0.7027     0.4825     -2.9679      1.4039\n",
      "accommodations[R2]        263.11     1.0654     246.95     0.0000      261.02      265.20\n",
      "accommodations[R3]        264.09     1.1533     228.99     0.0000      261.82      266.35\n",
      "=========================================================================================\n",
      "\n",
      "F-test for Poolability: 28.322\n",
      "P-value: 0.0000\n",
      "Distribution: F(49,561)\n",
      "\n",
      "Included effects: Entity\n"
     ]
    },
    {
     "name": "stderr",
     "output_type": "stream",
     "text": [
      "/Users/gussie/Documents/nerd_projects/ed/.venv/lib/python3.12/site-packages/linearmodels/panel/model.py:1260: MissingValueWarning: \n",
      "Inputs contain missing values. Dropping rows with missing observations.\n",
      "  super().__init__(dependent, exog, weights=weights, check_rank=check_rank)\n"
     ]
    }
   ],
   "source": [
    "df_read_r3 = df.loc[(df['math_read'] == 'RED')]\n",
    "fdsa = PanelOLS.from_formula(\"avg_naep ~ exp_per_stu_ia_scaled + accommodations + EntityEffects\", df_read_r3).fit()\n",
    "\n",
    "print(fdsa.summary)"
   ]
  },
  {
   "cell_type": "markdown",
   "metadata": {},
   "source": [
    "For the curious, here is the results for the model fit over only the math data:"
   ]
  },
  {
   "cell_type": "code",
   "execution_count": 34,
   "metadata": {},
   "outputs": [
    {
     "name": "stdout",
     "output_type": "stream",
     "text": [
      "                          PanelOLS Estimation Summary                           \n",
      "================================================================================\n",
      "Dep. Variable:               avg_naep   R-squared:                        0.4736\n",
      "Estimator:                   PanelOLS   R-squared (Between):              0.1861\n",
      "No. Observations:                 696   R-squared (Within):               0.4736\n",
      "Date:                Sat, Apr 12 2025   R-squared (Overall):              0.3130\n",
      "Time:                        09:32:00   Log-likelihood                   -2054.2\n",
      "Cov. Estimator:            Unadjusted                                           \n",
      "                                        F-statistic:                      289.72\n",
      "Entities:                          50   P-value                           0.0000\n",
      "Avg Obs:                       13.920   Distribution:                   F(2,644)\n",
      "Min Obs:                      10.0000                                           \n",
      "Max Obs:                       15.000   F-statistic (robust):          2.335e+04\n",
      "                                        P-value                           0.0000\n",
      "Time periods:                      14   Distribution:                   F(2,644)\n",
      "Avg Obs:                       49.714                                           \n",
      "Min Obs:                       37.000                                           \n",
      "Max Obs:                       78.000                                           \n",
      "                                                                                \n",
      "                                   Parameter Estimates                                   \n",
      "=========================================================================================\n",
      "                       Parameter  Std. Err.     T-stat    P-value    Lower CI    Upper CI\n",
      "-----------------------------------------------------------------------------------------\n",
      "exp_per_stu_ia_scaled     8.2023     1.6415     4.9968     0.0000      4.9789      11.426\n",
      "accommodations[R2]        263.15     1.3447     195.69     0.0000      260.50      265.79\n",
      "accommodations[R3]        271.41     1.7230     157.52     0.0000      268.02      274.79\n",
      "=========================================================================================\n",
      "\n",
      "F-test for Poolability: 24.583\n",
      "P-value: 0.0000\n",
      "Distribution: F(49,644)\n",
      "\n",
      "Included effects: Entity\n"
     ]
    },
    {
     "name": "stderr",
     "output_type": "stream",
     "text": [
      "/Users/gussie/Documents/nerd_projects/ed/.venv/lib/python3.12/site-packages/linearmodels/panel/model.py:1260: MissingValueWarning: \n",
      "Inputs contain missing values. Dropping rows with missing observations.\n",
      "  super().__init__(dependent, exog, weights=weights, check_rank=check_rank)\n"
     ]
    }
   ],
   "source": [
    "df_math_r3 = df.loc[(df['math_read'] == 'MAT')]\n",
    "rewq = PanelOLS.from_formula(\"avg_naep ~ exp_per_stu_ia_scaled + accommodations + EntityEffects\", df_math_r3).fit()\n",
    "\n",
    "print(rewq.summary)"
   ]
  },
  {
   "cell_type": "markdown",
   "metadata": {},
   "source": [
    "# 6. Conclusion\n",
    "\n",
    "It was pretty clearly from the visualizations that there wasn't an obvious relationship between per-student spending and NAEP scores. And that was corroborated by the models fit.  It appears that spending per student isn't greatly correlated with math success and not at all with reading, at least measured by NAEP scores."
   ]
  },
  {
   "cell_type": "markdown",
   "metadata": {},
   "source": [
    "# Notes\n",
    "\n",
    "<span id=\"fn1\"><sup>1</sup></span> Perhaps you're wondering why the notation for the spending term has the suffix ```_scaled```. Originially, the  ```ols``` function from ```statsmodels``` complained that \"The condition number is large, 7.07e+04. This might indicate that there are strong multicollinearity or other numerical problems.\" I scaled the inflation adjusted per-student spending data by dividing by the mean to shut it up.\n",
    "\n"
   ]
  }
 ],
 "metadata": {
  "kernelspec": {
   "display_name": ".venv",
   "language": "python",
   "name": "python3"
  },
  "language_info": {
   "codemirror_mode": {
    "name": "ipython",
    "version": 3
   },
   "file_extension": ".py",
   "mimetype": "text/x-python",
   "name": "python",
   "nbconvert_exporter": "python",
   "pygments_lexer": "ipython3",
   "version": "3.12.4"
  }
 },
 "nbformat": 4,
 "nbformat_minor": 2
}
